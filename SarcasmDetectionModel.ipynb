{
  "cells": [
    {
      "cell_type": "markdown",
      "metadata": {
        "id": "view-in-github",
        "colab_type": "text"
      },
      "source": [
        "<a href=\"https://colab.research.google.com/github/dipanshuverma98/Sarcasm_Model/blob/main/SarcasmDetectionModel.ipynb\" target=\"_parent\"><img src=\"https://colab.research.google.com/assets/colab-badge.svg\" alt=\"Open In Colab\"/></a>"
      ]
    },
    {
      "cell_type": "code",
      "execution_count": 1,
      "metadata": {
        "colab": {
          "base_uri": "https://localhost:8080/"
        },
        "id": "2g8x0LZiWsR9",
        "outputId": "2d382770-a42b-4a3f-aefa-26e9a19a65c2"
      },
      "outputs": [
        {
          "output_type": "stream",
          "name": "stdout",
          "text": [
            "                                        article_link  \\\n",
            "0  https://www.huffingtonpost.com/entry/versace-b...   \n",
            "1  https://www.huffingtonpost.com/entry/roseanne-...   \n",
            "2  https://local.theonion.com/mom-starting-to-fea...   \n",
            "3  https://politics.theonion.com/boehner-just-wan...   \n",
            "4  https://www.huffingtonpost.com/entry/jk-rowlin...   \n",
            "\n",
            "                                            headline  is_sarcastic  \n",
            "0  former versace store clerk sues over secret 'b...             0  \n",
            "1  the 'roseanne' revival catches up to our thorn...             0  \n",
            "2  mom starting to fear son's web series closest ...             1  \n",
            "3  boehner just wants wife to listen, not come up...             1  \n",
            "4  j.k. rowling wishes snape happy birthday in th...             0  \n"
          ]
        }
      ],
      "source": [
        "#Sarcasm\n",
        "import json\n",
        "import pandas as pd\n",
        "import re\n",
        "import numpy as np\n",
        "from sklearn.model_selection import train_test_split\n",
        "from tensorflow.keras.preprocessing.text import Tokenizer\n",
        "from tensorflow.keras.preprocessing.sequence import pad_sequences\n",
        "from tensorflow.keras.models import Sequential, load_model\n",
        "from tensorflow.keras.layers import Embedding, LSTM, Bidirectional, Dense\n",
        "from tensorflow.keras.callbacks import ModelCheckpoint\n",
        "\n",
        "data = []\n",
        "with open(\"Sarcasm_Headlines_Dataset.json\", \"r\") as file:\n",
        "    for line in file:\n",
        "        try:\n",
        "            data.append(json.loads(line))\n",
        "        except json.JSONDecodeError as e:\n",
        "            print(f\"Skipping invalid line: {line.strip()} due to error: {e}\")\n",
        "\n",
        "df = pd.DataFrame(data)\n",
        "\n",
        "print(df.head())"
      ]
    },
    {
      "cell_type": "code",
      "execution_count": 2,
      "metadata": {
        "colab": {
          "base_uri": "https://localhost:8080/"
        },
        "id": "O8XjjAuuglFg",
        "outputId": "03191b89-f189-4588-e851-c736e39b5e49"
      },
      "outputs": [
        {
          "output_type": "stream",
          "name": "stdout",
          "text": [
            "Collecting emoji\n",
            "  Downloading emoji-2.14.1-py3-none-any.whl.metadata (5.7 kB)\n",
            "Downloading emoji-2.14.1-py3-none-any.whl (590 kB)\n",
            "\u001b[?25l   \u001b[90m━━━━━━━━━━━━━━━━━━━━━━━━━━━━━━━━━━━━━━━━\u001b[0m \u001b[32m0.0/590.6 kB\u001b[0m \u001b[31m?\u001b[0m eta \u001b[36m-:--:--\u001b[0m\r\u001b[2K   \u001b[91m━━━━\u001b[0m\u001b[91m╸\u001b[0m\u001b[90m━━━━━━━━━━━━━━━━━━━━━━━━━━━━━━━━━━━\u001b[0m \u001b[32m71.7/590.6 kB\u001b[0m \u001b[31m2.1 MB/s\u001b[0m eta \u001b[36m0:00:01\u001b[0m\r\u001b[2K   \u001b[91m━━━━━━━━━━━━━━━━━━━━━━\u001b[0m\u001b[91m╸\u001b[0m\u001b[90m━━━━━━━━━━━━━━━━━\u001b[0m \u001b[32m337.9/590.6 kB\u001b[0m \u001b[31m5.1 MB/s\u001b[0m eta \u001b[36m0:00:01\u001b[0m\r\u001b[2K   \u001b[90m━━━━━━━━━━━━━━━━━━━━━━━━━━━━━━━━━━━━━━━━\u001b[0m \u001b[32m590.6/590.6 kB\u001b[0m \u001b[31m6.5 MB/s\u001b[0m eta \u001b[36m0:00:00\u001b[0m\n",
            "\u001b[?25hInstalling collected packages: emoji\n",
            "Successfully installed emoji-2.14.1\n"
          ]
        }
      ],
      "source": [
        "!pip install emoji"
      ]
    },
    {
      "cell_type": "code",
      "execution_count": 3,
      "metadata": {
        "id": "rX-o8SoaioTI"
      },
      "outputs": [],
      "source": [
        "import re\n",
        "import emoji\n",
        "\n",
        "def preprocess_text(text):\n",
        "    text = text.lower()\n",
        "\n",
        "    text = re.sub(r\"http\\S+|www\\S+|https\\S+\", \"\", text)\n",
        "    text = emoji.demojize(text, delimiters=(\" \", \" \"))\n",
        "    text = re.sub(r\"[^a-zA-Z0-9#@' ]\", \" \", text)\n",
        "    text = re.sub(r\"\\s+\", \" \", text).strip()\n",
        "\n",
        "    return text\n"
      ]
    },
    {
      "cell_type": "code",
      "execution_count": 4,
      "metadata": {
        "id": "aLIqDJNIixav"
      },
      "outputs": [],
      "source": [
        "df[\"text\"] = df[\"headline\"].apply(preprocess_text)\n",
        "\n",
        "texts = df[\"text\"].values\n",
        "labels = df[\"is_sarcastic\"].values\n"
      ]
    },
    {
      "cell_type": "code",
      "execution_count": 5,
      "metadata": {
        "id": "uo9tWaJBi_d9"
      },
      "outputs": [],
      "source": [
        "MAX_VOCAB_SIZE = 10000\n",
        "MAX_SEQUENCE_LENGTH = 50\n",
        "tokenizer = Tokenizer(num_words=MAX_VOCAB_SIZE, oov_token=\"<OOV>\")\n",
        "tokenizer.fit_on_texts(texts)\n",
        "sequences = tokenizer.texts_to_sequences(texts)\n",
        "padded_sequences = pad_sequences(sequences, maxlen=MAX_SEQUENCE_LENGTH, padding=\"post\", truncating=\"post\")\n",
        "\n",
        "X_train, X_test, y_train, y_test = train_test_split(padded_sequences, labels, test_size=0.2, random_state=42)\n"
      ]
    },
    {
      "cell_type": "code",
      "execution_count": 7,
      "metadata": {
        "colab": {
          "base_uri": "https://localhost:8080/"
        },
        "id": "ybonCkXrjK2p",
        "outputId": "c3cdb284-a44a-4dc6-aed9-8f6b1e013e3f"
      },
      "outputs": [
        {
          "metadata": {
            "tags": null
          },
          "name": "stdout",
          "output_type": "stream",
          "text": [
            "Epoch 1/10\n",
            "\u001b[1m668/668\u001b[0m \u001b[32m━━━━━━━━━━━━━━━━━━━━\u001b[0m\u001b[37m\u001b[0m \u001b[1m0s\u001b[0m 192ms/step - accuracy: 0.6646 - loss: 0.5742"
          ]
        },
        {
          "metadata": {
            "tags": null
          },
          "name": "stderr",
          "output_type": "stream",
          "text": [
            "WARNING:absl:You are saving your model as an HDF5 file via `model.save()` or `keras.saving.save_model(model)`. This file format is considered legacy. We recommend using instead the native Keras format, e.g. `model.save('my_model.keras')` or `keras.saving.save_model(model, 'my_model.keras')`. \n"
          ]
        },
        {
          "metadata": {
            "tags": null
          },
          "name": "stdout",
          "output_type": "stream",
          "text": [
            "\u001b[1m668/668\u001b[0m \u001b[32m━━━━━━━━━━━━━━━━━━━━\u001b[0m\u001b[37m\u001b[0m \u001b[1m153s\u001b[0m 204ms/step - accuracy: 0.6648 - loss: 0.5740 - val_accuracy: 0.8534 - val_loss: 0.3342\n",
            "Epoch 2/10\n",
            "\u001b[1m668/668\u001b[0m \u001b[32m━━━━━━━━━━━━━━━━━━━━\u001b[0m\u001b[37m\u001b[0m \u001b[1m0s\u001b[0m 192ms/step - accuracy: 0.9035 - loss: 0.2511"
          ]
        },
        {
          "metadata": {
            "tags": null
          },
          "name": "stderr",
          "output_type": "stream",
          "text": [
            "WARNING:absl:You are saving your model as an HDF5 file via `model.save()` or `keras.saving.save_model(model)`. This file format is considered legacy. We recommend using instead the native Keras format, e.g. `model.save('my_model.keras')` or `keras.saving.save_model(model, 'my_model.keras')`. \n"
          ]
        },
        {
          "output_type": "stream",
          "name": "stdout",
          "text": [
            "\u001b[1m668/668\u001b[0m \u001b[32m━━━━━━━━━━━━━━━━━━━━\u001b[0m\u001b[37m\u001b[0m \u001b[1m140s\u001b[0m 201ms/step - accuracy: 0.9035 - loss: 0.2511 - val_accuracy: 0.8688 - val_loss: 0.3285\n",
            "Epoch 3/10\n",
            "\u001b[1m668/668\u001b[0m \u001b[32m━━━━━━━━━━━━━━━━━━━━\u001b[0m\u001b[37m\u001b[0m \u001b[1m136s\u001b[0m 204ms/step - accuracy: 0.9378 - loss: 0.1752 - val_accuracy: 0.8596 - val_loss: 0.3547\n",
            "Epoch 4/10\n",
            "\u001b[1m668/668\u001b[0m \u001b[32m━━━━━━━━━━━━━━━━━━━━\u001b[0m\u001b[37m\u001b[0m \u001b[1m138s\u001b[0m 198ms/step - accuracy: 0.9579 - loss: 0.1239 - val_accuracy: 0.8602 - val_loss: 0.4109\n",
            "Epoch 5/10\n",
            "\u001b[1m668/668\u001b[0m \u001b[32m━━━━━━━━━━━━━━━━━━━━\u001b[0m\u001b[37m\u001b[0m \u001b[1m133s\u001b[0m 199ms/step - accuracy: 0.9663 - loss: 0.0952 - val_accuracy: 0.8545 - val_loss: 0.5182\n",
            "Epoch 6/10\n",
            "\u001b[1m668/668\u001b[0m \u001b[32m━━━━━━━━━━━━━━━━━━━━\u001b[0m\u001b[37m\u001b[0m \u001b[1m142s\u001b[0m 199ms/step - accuracy: 0.9756 - loss: 0.0741 - val_accuracy: 0.8504 - val_loss: 0.5455\n",
            "Epoch 7/10\n",
            "\u001b[1m668/668\u001b[0m \u001b[32m━━━━━━━━━━━━━━━━━━━━\u001b[0m\u001b[37m\u001b[0m \u001b[1m150s\u001b[0m 211ms/step - accuracy: 0.9814 - loss: 0.0572 - val_accuracy: 0.8495 - val_loss: 0.6514\n",
            "Epoch 8/10\n",
            "\u001b[1m668/668\u001b[0m \u001b[32m━━━━━━━━━━━━━━━━━━━━\u001b[0m\u001b[37m\u001b[0m \u001b[1m139s\u001b[0m 208ms/step - accuracy: 0.9820 - loss: 0.0521 - val_accuracy: 0.8482 - val_loss: 0.7963\n",
            "Epoch 9/10\n",
            "\u001b[1m668/668\u001b[0m \u001b[32m━━━━━━━━━━━━━━━━━━━━\u001b[0m\u001b[37m\u001b[0m \u001b[1m133s\u001b[0m 199ms/step - accuracy: 0.9855 - loss: 0.0440 - val_accuracy: 0.8429 - val_loss: 0.8347\n",
            "Epoch 10/10\n",
            "\u001b[1m668/668\u001b[0m \u001b[32m━━━━━━━━━━━━━━━━━━━━\u001b[0m\u001b[37m\u001b[0m \u001b[1m147s\u001b[0m 206ms/step - accuracy: 0.9876 - loss: 0.0389 - val_accuracy: 0.8426 - val_loss: 0.9066\n"
          ]
        }
      ],
      "source": [
        "# BiLSTM\n",
        "from tensorflow.keras.layers import Embedding, LSTM, Bidirectional, Dense, Dropout\n",
        "model = Sequential([\n",
        "    Embedding(input_dim=MAX_VOCAB_SIZE, output_dim=128, input_length=MAX_SEQUENCE_LENGTH),\n",
        "\n",
        "    Bidirectional(LSTM(32, return_sequences=True, dropout=0.5, recurrent_dropout=0.5)),\n",
        "    Bidirectional(LSTM(16, dropout=0.5, recurrent_dropout=0.5)),\n",
        "\n",
        "    Dense(32, activation=\"relu\"),\n",
        "    Dropout(0.5),\n",
        "    Dense(1, activation=\"sigmoid\")\n",
        "])\n",
        "\n",
        "\n",
        "model.compile(loss=\"binary_crossentropy\", optimizer=\"adam\", metrics=[\"accuracy\"])\n",
        "\n",
        "checkpoint = ModelCheckpoint(\"best_bilstm_model.h5\", save_best_only=True, monitor=\"val_accuracy\", mode=\"max\")\n",
        "\n",
        "\n",
        "history = model.fit(\n",
        "    X_train, y_train,\n",
        "    validation_data=(X_test, y_test),\n",
        "    epochs=10, batch_size=32,\n",
        "    callbacks=[checkpoint]\n",
        ")"
      ]
    },
    {
      "cell_type": "code",
      "execution_count": 9,
      "metadata": {
        "colab": {
          "base_uri": "https://localhost:8080/"
        },
        "id": "2xprXrOpmEgW",
        "outputId": "f524d858-2b39-46d6-857f-94fa52dc7fa6"
      },
      "outputs": [
        {
          "output_type": "stream",
          "name": "stderr",
          "text": [
            "WARNING:absl:Compiled the loaded model, but the compiled metrics have yet to be built. `model.compile_metrics` will be empty until you train or evaluate the model.\n"
          ]
        },
        {
          "output_type": "stream",
          "name": "stdout",
          "text": [
            "\u001b[1m167/167\u001b[0m \u001b[32m━━━━━━━━━━━━━━━━━━━━\u001b[0m\u001b[37m\u001b[0m \u001b[1m9s\u001b[0m 30ms/step - accuracy: 0.8682 - loss: 0.3211\n",
            "Test Accuracy: 0.8688\n",
            "\u001b[1m1/1\u001b[0m \u001b[32m━━━━━━━━━━━━━━━━━━━━\u001b[0m\u001b[37m\u001b[0m \u001b[1m2s\u001b[0m 2s/step\n",
            "Not Sarcasm\n"
          ]
        }
      ],
      "source": [
        "\n",
        "best_model = load_model(\"best_bilstm_model.h5\")\n",
        "\n",
        "loss, accuracy = best_model.evaluate(X_test, y_test)\n",
        "print(f\"Test Accuracy: {accuracy:.4f}\")\n",
        "\n",
        "def predict_sarcasm(text):\n",
        "    seq = tokenizer.texts_to_sequences([preprocess_text(text)])\n",
        "    padded = pad_sequences(seq, maxlen=MAX_SEQUENCE_LENGTH, padding=\"post\", truncating=\"post\")\n",
        "    pred = best_model.predict(padded)[0][0]\n",
        "    return \"Sarcasm\" if pred > 0.5 else \"Not Sarcasm\"\n",
        "\n",
        "print(predict_sarcasm(\"Oh wow, that’s EXACTLY what I wanted!\"))\n"
      ]
    }
  ],
  "metadata": {
    "colab": {
      "provenance": [],
      "include_colab_link": true
    },
    "kernelspec": {
      "display_name": "Python 3",
      "name": "python3"
    },
    "language_info": {
      "name": "python"
    }
  },
  "nbformat": 4,
  "nbformat_minor": 0
}